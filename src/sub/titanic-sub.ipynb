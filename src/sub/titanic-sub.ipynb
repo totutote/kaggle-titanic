{
 "cells": [
  {
   "cell_type": "code",
   "execution_count": 2,
   "id": "3bd747a6",
   "metadata": {},
   "outputs": [
    {
     "name": "stdout",
     "output_type": "stream",
     "text": [
      "/root/.cache/kagglehub/datasets/yukenai/titanic-codes/versions/3\n",
      "メイン処理を開始します10\n",
      "動作確認: このコードは正常に動作しています。\n"
     ]
    }
   ],
   "source": [
    "import kagglehub, sys, os\n",
    "\n",
    "local_path = kagglehub.dataset_download('yukenai/titanic-codes')\n",
    "sys.path.append(os.path.join(local_path, 'titanic-codes')) \n",
    "\n",
    "print(local_path)\n",
    "\n",
    "!python {local_path}/train.py\n"
   ]
  }
 ],
 "metadata": {
  "kernelspec": {
   "display_name": "Python 3",
   "language": "python",
   "name": "python3"
  },
  "language_info": {
   "codemirror_mode": {
    "name": "ipython",
    "version": 3
   },
   "file_extension": ".py",
   "mimetype": "text/x-python",
   "name": "python",
   "nbconvert_exporter": "python",
   "pygments_lexer": "ipython3",
   "version": "3.11.13"
  }
 },
 "nbformat": 4,
 "nbformat_minor": 5
}
